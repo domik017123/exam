{
  "nbformat": 4,
  "nbformat_minor": 0,
  "metadata": {
    "colab": {
      "provenance": []
    },
    "kernelspec": {
      "name": "python3",
      "display_name": "Python 3"
    },
    "language_info": {
      "name": "python"
    }
  },
  "cells": [
    {
      "cell_type": "markdown",
      "source": [
        "## 41. 여행계획"
      ],
      "metadata": {
        "id": "lJRBk418IxDA"
      }
    },
    {
      "cell_type": "code",
      "source": [
        "#41. 여행계획 pass\n",
        "n, m = map(int, input().split())\n",
        "\n",
        "data = [[0]*(n+1) for _ in range(n+1)]\n",
        "for i in range(1, n+1):\n",
        "    data[i] = list(map(int, input().split()))"
      ],
      "metadata": {
        "colab": {
          "base_uri": "https://localhost:8080/"
        },
        "id": "WiOvGFqKAb9P",
        "outputId": "0a65d5dd-cdac-4b36-c787-8e373981413c"
      },
      "execution_count": null,
      "outputs": [
        {
          "name": "stdout",
          "output_type": "stream",
          "text": [
            "5 4\n",
            "0 1 0 1 1\n",
            "1 0 1 1 0\n",
            "0 1 0 0 0\n",
            "1 1 0 0 0\n",
            "1 0 0 0 0\n"
          ]
        }
      ]
    },
    {
      "cell_type": "code",
      "source": [
        "plan = list(map(int, input().split()))"
      ],
      "metadata": {
        "colab": {
          "base_uri": "https://localhost:8080/"
        },
        "id": "Z0U7OAxtBQ1R",
        "outputId": "04a2764b-9b68-4a54-fd8c-9656d24807a2"
      },
      "execution_count": null,
      "outputs": [
        {
          "name": "stdout",
          "output_type": "stream",
          "text": [
            "2 3 4 3\n"
          ]
        }
      ]
    },
    {
      "cell_type": "code",
      "source": [
        "print(data)"
      ],
      "metadata": {
        "colab": {
          "base_uri": "https://localhost:8080/"
        },
        "id": "TqCinOB0Ch8e",
        "outputId": "09892bee-64ab-40e0-fe14-3e92f079bebd"
      },
      "execution_count": null,
      "outputs": [
        {
          "output_type": "stream",
          "name": "stdout",
          "text": [
            "[[0, 0, 0, 0, 0, 0], [0, 1, 0, 1, 1], [1, 0, 1, 1, 0], [0, 1, 0, 0, 0], [1, 1, 0, 0, 0], [1, 0, 0, 0, 0]]\n"
          ]
        }
      ]
    },
    {
      "cell_type": "code",
      "source": [
        "print(plan)"
      ],
      "metadata": {
        "colab": {
          "base_uri": "https://localhost:8080/"
        },
        "id": "pPfgoXR4INiP",
        "outputId": "01301946-23b8-43f8-a694-1d0769ff548f"
      },
      "execution_count": null,
      "outputs": [
        {
          "output_type": "stream",
          "name": "stdout",
          "text": [
            "[2, 3, 4, 3]\n"
          ]
        }
      ]
    },
    {
      "cell_type": "code",
      "execution_count": null,
      "metadata": {
        "colab": {
          "base_uri": "https://localhost:8080/"
        },
        "id": "6B0x5k5Rpj8I",
        "outputId": "64cb2275-e726-4b07-fc84-c4256c2ac672"
      },
      "outputs": [
        {
          "output_type": "stream",
          "name": "stdout",
          "text": [
            "True\n"
          ]
        }
      ],
      "source": [
        "'''\n",
        "find_parent 함수 사용해서 부모 집합이 같은지 확인 >> 연결된 경로이므로 여행 가능\n",
        "'''\n",
        "def find_parent(parent, x):\n",
        "    if parent[x] != x:\n",
        "        parent[x] = find_parent(parent,parent[x])\n",
        "    return parent[x]\n",
        "\n",
        "def union_parent(parent, a, b):\n",
        "    a = find_parent(parent, a)\n",
        "    b = find_parent(parent, b)\n",
        "\n",
        "    if a < b:\n",
        "        parent[b] = a\n",
        "    else:\n",
        "        parent[a] = b\n",
        "\n",
        "#부모 집합\n",
        "parent = [0]*(n+1)\n",
        "for i in range(1,n+1):\n",
        "    parent[i] = i\n",
        "\n",
        "#부모 집합 업데이트\n",
        "for i in range(1, n+1):\n",
        "    for j in range(n):\n",
        "        if data[i][j] == 1:\n",
        "            union_parent(parent, i, j+1)\n",
        "\n",
        "# print(parent)\n",
        "\n",
        "#plan의 각 부모가 같은지 확인\n",
        "result = True\n",
        "for i in range(m-1):\n",
        "    if find_parent(parent, plan[i]) != find_parent(parent, plan[i+1]):\n",
        "        result = False\n",
        "\n",
        "print(result)"
      ]
    },
    {
      "cell_type": "markdown",
      "source": [
        "## 42.탑승구"
      ],
      "metadata": {
        "id": "zLzJqpPiIvpu"
      }
    },
    {
      "cell_type": "code",
      "source": [
        "#42. 탑승구 : fail\n",
        "g = 4\n",
        "p = 6\n",
        "\n",
        "'''\n",
        "1번은 모두 가능하니까 큰 번호부터 도킹\n",
        "\n",
        ">여기까지 생각하고 그래프로 어떤식으로 풀어야할지 몰라서 fail\n",
        "\n",
        "'''\n",
        "\n",
        "def find_parent(parent, x):\n",
        "    if parent[x] != x:\n",
        "        parent[x] = find_parent(parent,parent[x])\n",
        "    return parent[x]\n",
        "\n",
        "def union_parent(parent, a, b):\n",
        "    a = find_parent(parent, a)\n",
        "    b = find_parent(parent, b)\n",
        "\n",
        "    if a < b:\n",
        "        parent[b] = a\n",
        "    else:\n",
        "        parent[a] = b\n",
        "\n",
        "parent = [0]*(g+1)\n",
        "\n",
        "for i in range(1, g+1):\n",
        "    parent[i] = i\n",
        "\n",
        "result = 0\n",
        "for _ in range(p):\n",
        "    data = find_parent(parent, int(input()))\n",
        "    if data==0:\n",
        "        break\n",
        "    union_parent(parent, data, data-1)\n",
        "    result +=1\n",
        "print('result:',result)"
      ],
      "metadata": {
        "colab": {
          "base_uri": "https://localhost:8080/"
        },
        "id": "Hid5bYbGI4R-",
        "outputId": "8f97f793-3849-48dc-aef7-a9687c967ab0"
      },
      "execution_count": null,
      "outputs": [
        {
          "output_type": "stream",
          "name": "stdout",
          "text": [
            "2\n",
            "2\n",
            "3\n",
            "3\n",
            "result: 3\n"
          ]
        }
      ]
    },
    {
      "cell_type": "code",
      "source": [
        "#43. 어두운 길\n",
        "\n",
        "'''\n",
        "크루스칼로 해결하면 될거 같음\n",
        "\n",
        ">>답이 잘못나옴\n",
        "'''\n",
        "\n",
        "\n",
        "def find_parent(parent, x):\n",
        "    if parent[x] != x:\n",
        "        parent[x] = find_parent(parent,parent[x])\n",
        "    return parent[x]\n",
        "\n",
        "def union_parent(parent, a, b):\n",
        "    a = find_parent(parent, a)\n",
        "    b = find_parent(parent, b)\n",
        "    if a < b:\n",
        "        parent[b] = a\n",
        "    else:\n",
        "        parent[a] = b\n",
        "\n",
        "n, m = map(int, input().split())\n",
        "parent = [0]*(n+1)\n",
        "\n",
        "#초기화\n",
        "edges=[]\n",
        "result=0\n",
        "for i in range(1, n+1):\n",
        "    parent[i] = i\n",
        "#간선정보입력\n",
        "for _ in range(m):\n",
        "    a, b, cost = map(int, input().split())\n",
        "    edges.append((cost,a,b))\n",
        "edges.sort()\n",
        "\n",
        "#크루스칼\n",
        "tot = 0\n",
        "for edge in edges:\n",
        "    cost, a, b = edge\n",
        "    tot += cost\n",
        "    if find_parent(parent, a) != find_parent(parent, b):\n",
        "        union_parent(parent, a, b)\n",
        "        result += cost\n",
        "\n",
        "\n",
        "ans = tot - cost\n",
        "print(ans)"
      ],
      "metadata": {
        "colab": {
          "base_uri": "https://localhost:8080/"
        },
        "id": "vuhiOljLRjs0",
        "outputId": "9c5c0d90-6cea-4340-ed5e-5d613fdb46ab"
      },
      "execution_count": null,
      "outputs": [
        {
          "output_type": "stream",
          "name": "stdout",
          "text": [
            "7 11\n",
            "0 1 7\n",
            "0 3 5\n",
            "1 2 8\n",
            "1 3 9\n",
            "1 4 7\n",
            "2 4 5\n",
            "3 4 15\n",
            "3 5 6\n",
            "4 5 8\n",
            "4 6 9\n",
            "5 6 11\n",
            "75\n"
          ]
        }
      ]
    },
    {
      "cell_type": "code",
      "source": [
        "#44. 행성터널 fail\n",
        "'''\n",
        "이것도 행성간 거리 함수 구한 후에 크루스칼로 풀수 있을거 같음\n",
        "\n",
        ">>최소거리를 잘못 이해함 x+y+z가 아니라 x,y,z중 최소임\n",
        "그래서행성간 거리를 구하는 함수를 구할 필요가 없고\n",
        "좌표별로 정렬하면 고려할 거리도 줄어든다\n",
        "이후 크루스칼\n",
        "'''"
      ],
      "metadata": {
        "id": "PmEWTV18VlcA"
      },
      "execution_count": null,
      "outputs": []
    },
    {
      "cell_type": "code",
      "source": [
        "def get_dist(a, b):\n",
        "    dist = 0\n",
        "    dist += abs(a[0]-b[0])\n",
        "    dist += abs(a[1]-b[1])\n",
        "    dist += abs(a[2]-b[2])\n",
        "    return dist\n",
        "\n",
        "\n",
        "a1 = [11, -15, -15]\n",
        "a2 = [14, -5, -15]\n",
        "a3 = [-1, -1, -5]\n",
        "a4 = [10, -4, -1]\n",
        "a5 = [19, -4, 19]\n",
        "\n",
        "list_a=[]\n",
        "list_a.append(a1)\n",
        "list_a.append(a2)\n",
        "list_a.append(a3)\n",
        "list_a.append(a4)\n",
        "list_a.append(a5)\n",
        "\n",
        "print(list_a)"
      ],
      "metadata": {
        "colab": {
          "base_uri": "https://localhost:8080/"
        },
        "id": "8QNGq-CBWove",
        "outputId": "99dbe762-2811-4e0a-c0cd-2a3dd4384993"
      },
      "execution_count": null,
      "outputs": [
        {
          "output_type": "stream",
          "name": "stdout",
          "text": [
            "[[11, -15, -15], [14, -5, -15], [-1, -1, -5], [10, -4, -1], [19, -4, 19]]\n"
          ]
        }
      ]
    },
    {
      "cell_type": "code",
      "source": [
        "def find_parent(parent, x):\n",
        "    if parent[x] != x:\n",
        "        parent[x] = find_parent(parent,parent[x])\n",
        "    return parent[x]\n",
        "\n",
        "def union_parent(parent, a, b):\n",
        "    a = find_parent(parent, a)\n",
        "    b = find_parent(parent, b)\n",
        "    if a < b:\n",
        "        parent[b] = a\n",
        "    else:\n",
        "        parent[a] = b\n",
        "\n",
        "n = 5\n",
        "parent = [0]*(n+1)\n",
        "\n",
        "#초기화\n",
        "edges=[]\n",
        "result=0\n",
        "for i in range(1, n+1):\n",
        "    parent[i] = i\n",
        "#간선정보입력\n",
        "for i in range(n):\n",
        "    for j in range(n):\n",
        "        a, b, cost = i+1,j+1, get_dist(list_a[i], list_a[j])\n",
        "        edges.append((cost,a,b))\n",
        "edges.sort()\n",
        "\n",
        "#크루스칼\n",
        "for edge in edges:\n",
        "    cost, a, b = edge\n",
        "    if find_parent(parent, a) != find_parent(parent, b):\n",
        "        union_parent(parent, a, b)\n",
        "        result += cost\n",
        "\n",
        "print(result)"
      ],
      "metadata": {
        "colab": {
          "base_uri": "https://localhost:8080/"
        },
        "id": "CdibpW2-XaSD",
        "outputId": "d4837e6c-0da8-4ce8-aba6-e841bcb11257"
      },
      "execution_count": null,
      "outputs": [
        {
          "output_type": "stream",
          "name": "stdout",
          "text": [
            "79\n"
          ]
        }
      ]
    },
    {
      "cell_type": "code",
      "source": [
        "#45. 최종순위"
      ],
      "metadata": {
        "id": "t82adH6jbdLx"
      },
      "execution_count": null,
      "outputs": []
    }
  ]
}