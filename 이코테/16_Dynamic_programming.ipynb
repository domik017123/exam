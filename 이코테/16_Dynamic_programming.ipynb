{
  "nbformat": 4,
  "nbformat_minor": 0,
  "metadata": {
    "colab": {
      "provenance": []
    },
    "kernelspec": {
      "name": "python3",
      "display_name": "Python 3"
    },
    "language_info": {
      "name": "python"
    }
  },
  "cells": [
    {
      "cell_type": "code",
      "execution_count": 25,
      "metadata": {
        "colab": {
          "base_uri": "https://localhost:8080/"
        },
        "id": "REMyIpGXYXFA",
        "outputId": "f017e67e-ff5b-4052-8954-ca19c1df4293"
      },
      "outputs": [
        {
          "output_type": "stream",
          "name": "stdout",
          "text": [
            "5\n",
            "0.0060 s\n"
          ]
        }
      ],
      "source": [
        "import time\n",
        "start = time.time()\n",
        "'''\n",
        "실전 Q2. 1로 만들기 PASS 20/20MIN\n",
        "\n",
        "26 > 25 > 5 > 1\n",
        "1 : 1\n",
        "2 : 1\n",
        "3 : 1\n",
        "4 : f(2)+1=2\n",
        "5 : 1\n",
        "6 : min(f(2)+1, f(3)+1)\n",
        "'''\n",
        "def div(n,x):\n",
        "    return n//x\n",
        "\n",
        "def sub(n):\n",
        "    return n-1\n",
        "\n",
        "c = [30000]*30000\n",
        "c[0]=0\n",
        "c[1]=0\n",
        "c[2]=1\n",
        "c[3]=1\n",
        "c[5]=1\n",
        "\n",
        "def f(n):\n",
        "    #종료조건\n",
        "    if n==1 or n==2 or n==3 or n==5:\n",
        "        return 1\n",
        "    #메모이제이션\n",
        "    if c[n] !=30000:\n",
        "        return c[n]\n",
        "\n",
        "    if n%5==0:\n",
        "        c[n]=min(c[n],f(div(n,5))+1)\n",
        "        # print(c)\n",
        "    if n%3==0:\n",
        "        c[n]=min(c[n],f(div(n,3))+1)\n",
        "        #print(c)\n",
        "    if n%2==0:\n",
        "        c[n]=min(c[n],f(div(n,2))+1)\n",
        "        # print(c)\n",
        "    c[n]=min(c[n],f(sub(n))+1)\n",
        "\n",
        "    return c[n]\n",
        "\n",
        "n=500\n",
        "# f[10]\n",
        "# print(c)\n",
        "print(f(n))\n",
        "\n",
        "end =time.time()\n",
        "exe_time = end-start\n",
        "print(f'{exe_time:.4f}','s')"
      ]
    },
    {
      "cell_type": "code",
      "source": [
        "start=time.time()\n",
        "'''\n",
        "실전 Q3.개미 전사 PASS 20/30MIN\n",
        "\n",
        "f(1)<f(3)<f(5)< ...\n",
        "f(2)<f(4)< ...\n",
        "f(6) : max(f(4)+c[6],f(5))\n",
        "'''\n",
        "import random\n",
        "# n=10\n",
        "n=4\n",
        "food = [0]*(n+1)\n",
        "\n",
        "# c = [random.randint(1, 10) for _ in range(n)]\n",
        "c = [0,1,3,1,5]\n",
        "print('창고',c)\n",
        "\n",
        "food[1] = c[1]\n",
        "food[2] = max(c[1],c[2])\n",
        "\n",
        "def f(n):\n",
        "    #종료\n",
        "    if n==1:\n",
        "        return food[1]\n",
        "    if n==2:\n",
        "        return food[2]\n",
        "    if food[n] !=0:\n",
        "        return food[n]\n",
        "\n",
        "    food[n] = max(f(n-2)+c[n],f(n-1))\n",
        "    return food[n]\n",
        "\n",
        "\n",
        "print(f(n))\n",
        "print(food)\n",
        "\n",
        "\n",
        "end=time.time()\n",
        "exe_time = end-start\n",
        "print(f'{exe_time:.4f}','s')"
      ],
      "metadata": {
        "colab": {
          "base_uri": "https://localhost:8080/"
        },
        "id": "3mh_JZ2-oEgu",
        "outputId": "3ae1463d-7b16-4e2b-e101-ee1665f6607c"
      },
      "execution_count": 45,
      "outputs": [
        {
          "output_type": "stream",
          "name": "stdout",
          "text": [
            "창고 [0, 1, 3, 1, 5]\n",
            "8\n",
            "[0, 1, 3, 3, 8]\n",
            "0.0095 s\n"
          ]
        }
      ]
    },
    {
      "cell_type": "code",
      "source": [
        "start=time.time()\n",
        "'''\n",
        "실전 Q4.바닥 공사 PASS 10/20MIN\n",
        "\n",
        "f(n) = f(n-1) + 2*f(n-2)\n",
        "'''\n",
        "\n",
        "n=10\n",
        "c = [0]*(n+1)\n",
        "c[1]=1\n",
        "c[2]=3\n",
        "# c[3]=3+2\n",
        "\n",
        "def f(x):\n",
        "    #종료\n",
        "    if x==1 or x==2 or c[x]!=0:\n",
        "        return c[x]\n",
        "\n",
        "    c[x] = f(x-1) + 2*f(x-2)\n",
        "    return c[x]\n",
        "\n",
        "print(f(5))\n",
        "print(c)\n",
        "\n",
        "end=time.time()\n",
        "exe_time = end-start\n",
        "print(f'{exe_time:.4f}','s')"
      ],
      "metadata": {
        "colab": {
          "base_uri": "https://localhost:8080/"
        },
        "id": "Jfylh6JO0S0K",
        "outputId": "67501aa1-7c71-4a3b-bc3e-438657fc24eb"
      },
      "execution_count": 53,
      "outputs": [
        {
          "output_type": "stream",
          "name": "stdout",
          "text": [
            "21\n",
            "[0, 1, 3, 5, 11, 21, 0, 0, 0, 0, 0]\n",
            "0.0027 s\n"
          ]
        }
      ]
    },
    {
      "cell_type": "code",
      "source": [
        "start=time.time()\n",
        "'''\n",
        "실전 Q5.효율적인 화폐 구성 PASS 35/30MIN\n",
        "\n",
        "bottom-up\n",
        "'''\n",
        "N=3\n",
        "M=15\n",
        "a = [4, 5, 11]\n",
        "len_c = max(max(a)+1,M+1)\n",
        "c = [10001]*(len_c)\n",
        "\n",
        "for coin in a:\n",
        "    c[coin] = 1\n",
        "\n",
        "for i in range(1,M+1):\n",
        "    if c[i]!=10001:\n",
        "        for coin in a:\n",
        "            x = i\n",
        "            # print('i',x)\n",
        "            x += coin\n",
        "            if x > M:\n",
        "                pass\n",
        "            else:\n",
        "                c[x] = min(c[x],c[i]+1)\n",
        "                print(i,'+',coin,'=', x, c[x])\n",
        "\n",
        "print(c)\n",
        "if c[M] == 10001:\n",
        "    print(-1)\n",
        "else:\n",
        "    print(c[M])\n",
        "\n",
        "end=time.time()\n",
        "exe_time = end-start\n",
        "print(f'{exe_time:.4f}','s')"
      ],
      "metadata": {
        "colab": {
          "base_uri": "https://localhost:8080/"
        },
        "id": "Rl5HYNSb3KP6",
        "outputId": "440b59b7-0e46-4fde-fec8-7de1ae0bd8b9"
      },
      "execution_count": 92,
      "outputs": [
        {
          "output_type": "stream",
          "name": "stdout",
          "text": [
            "4 + 4 = 8 2\n",
            "4 + 5 = 9 2\n",
            "4 + 11 = 15 2\n",
            "5 + 4 = 9 2\n",
            "5 + 5 = 10 2\n",
            "8 + 4 = 12 3\n",
            "8 + 5 = 13 3\n",
            "9 + 4 = 13 3\n",
            "9 + 5 = 14 3\n",
            "10 + 4 = 14 3\n",
            "10 + 5 = 15 2\n",
            "11 + 4 = 15 2\n",
            "[10001, 10001, 10001, 10001, 1, 1, 10001, 10001, 2, 2, 2, 1, 3, 3, 3, 2]\n",
            "2\n",
            "0.0237 s\n"
          ]
        }
      ]
    },
    {
      "cell_type": "code",
      "source": [
        "start=time.time()\n",
        "'''\n",
        "기출 Q31.금광 : PASS 30/30MIN\n",
        "bottom up\n",
        "\n",
        "max(down, right, up)\n",
        "'''\n",
        "import numpy as np\n",
        "n=4\n",
        "m=4\n",
        "# data = np.array([1, 3, 3, 2, 2 ,1, 4, 1, 0, 6, 4, 7])\n",
        "data = np.array([1,3,1,5,2,2,4,1,5,0,2,3,0,6,1,2])\n",
        "data = data.reshape(n,m)\n",
        "print(data)\n",
        "\n",
        "c = [[0]*m]*n\n",
        "c = np.array(c)\n",
        "for i in range(n):\n",
        "    c[i][0] = data[i][0]\n",
        "print(c)\n",
        "\n",
        "for j in range(1,m):\n",
        "    for i in range(n):\n",
        "        if i==0:\n",
        "            r = c[i][j-1]\n",
        "            u = c[i+1][j-1]\n",
        "            c[i][j] = max(r,u)+data[i][j]\n",
        "        elif i==n-1:\n",
        "            d = c[i-1][j-1]\n",
        "            r = c[i][j-1]\n",
        "            c[i][j] = max(d,r)+data[i][j]\n",
        "        else:\n",
        "            d = c[i-1][j-1]\n",
        "            r = c[i][j-1]\n",
        "            u = c[i+1][j-1]\n",
        "            c[i][j] = max(d,r,u)+data[i][j]\n",
        "    print(c)\n",
        "\n",
        "print(max(c[:,m-1]))\n",
        "\n",
        "end=time.time()\n",
        "exe_time = end-start\n",
        "print(f'{exe_time:.4f}','s')"
      ],
      "metadata": {
        "colab": {
          "base_uri": "https://localhost:8080/"
        },
        "id": "nqXnlC8KEIHU",
        "outputId": "10645ab8-66f3-4273-fca4-7be25b434320"
      },
      "execution_count": 111,
      "outputs": [
        {
          "output_type": "stream",
          "name": "stdout",
          "text": [
            "[[1 3 1 5]\n",
            " [2 2 4 1]\n",
            " [5 0 2 3]\n",
            " [0 6 1 2]]\n",
            "[[1 0 0 0]\n",
            " [2 0 0 0]\n",
            " [5 0 0 0]\n",
            " [0 0 0 0]]\n",
            "[[ 1  5  0  0]\n",
            " [ 2  7  0  0]\n",
            " [ 5  5  0  0]\n",
            " [ 0 11  0  0]]\n",
            "[[ 1  5  8  0]\n",
            " [ 2  7 11  0]\n",
            " [ 5  5 13  0]\n",
            " [ 0 11 12  0]]\n",
            "[[ 1  5  8 16]\n",
            " [ 2  7 11 14]\n",
            " [ 5  5 13 16]\n",
            " [ 0 11 12 15]]\n",
            "16\n",
            "0.0100 s\n"
          ]
        }
      ]
    },
    {
      "cell_type": "code",
      "source": [
        "start=time.time()\n",
        "'''\n",
        "기출 Q32.정수 삼각형 : PASS 15/30MIN\n",
        "bottom up\n",
        "\n",
        "\n",
        "'''\n",
        "import numpy as np\n",
        "n=5\n",
        "data = [[7],[3,8],[8,1,0],[2,7,4,4],[4,5,2,6,5]]\n",
        "\n",
        "c = [[0]*n]*n\n",
        "c = np.array(c)\n",
        "print(c)\n",
        "\n",
        "c[0][0]=data[0][0]\n",
        "for i in range(1,n):\n",
        "    for j in range(i+1):\n",
        "        if j==0:\n",
        "            c[i][j]=data[i][j]+c[i-1][j]\n",
        "        elif j==i:\n",
        "            c[i][j]=data[i][j]+c[i-1][j-1]\n",
        "        else:\n",
        "            c[i][j]=data[i][j]+max(c[i-1][j-1],c[i-1][j])\n",
        "print(c)\n",
        "print(max(c[n-1,:]))\n",
        "\n",
        "end=time.time()\n",
        "exe_time = end-start\n",
        "print(f'{exe_time:.4f}','s')"
      ],
      "metadata": {
        "colab": {
          "base_uri": "https://localhost:8080/"
        },
        "id": "B_C8KJlhOxyF",
        "outputId": "222e689e-713d-4483-c244-9fd5d972f385"
      },
      "execution_count": 153,
      "outputs": [
        {
          "output_type": "stream",
          "name": "stdout",
          "text": [
            "[[0 0 0 0 0]\n",
            " [0 0 0 0 0]\n",
            " [0 0 0 0 0]\n",
            " [0 0 0 0 0]\n",
            " [0 0 0 0 0]]\n",
            "[[ 7  0  0  0  0]\n",
            " [10 15  0  0  0]\n",
            " [18 16 15  0  0]\n",
            " [20 25 20 19  0]\n",
            " [24 30 27 26 24]]\n",
            "30\n",
            "0.0038 s\n"
          ]
        }
      ]
    },
    {
      "cell_type": "code",
      "source": [
        "start=time.time()\n",
        "'''\n",
        "기출 Q33.퇴사 : FAIL 30/30min\n",
        "bottom up\n",
        "'''\n",
        "import numpy as np\n",
        "n=7\n",
        "data = [[0,0],[3,10],[5,20],[1,10],[1,20],[2,15],[4,40],[2,200]]\n",
        "c = [0]*(n+1) #날짜별 받은 돈\n",
        "print(c)\n",
        "\n",
        "#날짜별로 반복\n",
        "#다음 날짜별로 돈 계산후 비교(n일까지)\n",
        "for i in range(1,n+1): # 시작 날짜\n",
        "    pay = 0\n",
        "    day = i\n",
        "    print(i)\n",
        "    while True: # n까지 계속 계산\n",
        "        if day > n: # day가 n 초과시 종료\n",
        "            break\n",
        "        else:\n",
        "            c[day] =data[i][1] # 받은 돈\n",
        "            day +=data[i][0] # 다음 날짜\n",
        "            print(c)\n",
        "    pay = max(pay,sum(c)) # 날짜별 받은 돈 합산\n",
        "    print(pay,sum(c))\n",
        "\n",
        "print(pay)\n",
        "\n",
        "\n",
        "end=time.time()\n",
        "exe_time = end-start\n",
        "print(f'{exe_time:.4f}','s')"
      ],
      "metadata": {
        "colab": {
          "base_uri": "https://localhost:8080/"
        },
        "id": "V3oWeKAIgJMW",
        "outputId": "ce0e68cd-4035-4e13-cf9b-1445bdb286f6"
      },
      "execution_count": 165,
      "outputs": [
        {
          "output_type": "stream",
          "name": "stdout",
          "text": [
            "[0, 0, 0, 0, 0, 0, 0, 0]\n",
            "1\n",
            "[0, 10, 0, 0, 0, 0, 0, 0]\n",
            "[0, 10, 0, 0, 10, 0, 0, 0]\n",
            "[0, 10, 0, 0, 10, 0, 0, 10]\n",
            "30 30\n",
            "2\n",
            "[0, 10, 20, 0, 10, 0, 0, 10]\n",
            "[0, 10, 20, 0, 10, 0, 0, 20]\n",
            "60 60\n",
            "3\n",
            "[0, 10, 20, 10, 10, 0, 0, 20]\n",
            "[0, 10, 20, 10, 10, 0, 0, 20]\n",
            "[0, 10, 20, 10, 10, 10, 0, 20]\n",
            "[0, 10, 20, 10, 10, 10, 10, 20]\n",
            "[0, 10, 20, 10, 10, 10, 10, 10]\n",
            "80 80\n",
            "4\n",
            "[0, 10, 20, 10, 20, 10, 10, 10]\n",
            "[0, 10, 20, 10, 20, 20, 10, 10]\n",
            "[0, 10, 20, 10, 20, 20, 20, 10]\n",
            "[0, 10, 20, 10, 20, 20, 20, 20]\n",
            "120 120\n",
            "5\n",
            "[0, 10, 20, 10, 20, 15, 20, 20]\n",
            "[0, 10, 20, 10, 20, 15, 20, 15]\n",
            "110 110\n",
            "6\n",
            "[0, 10, 20, 10, 20, 15, 40, 15]\n",
            "130 130\n",
            "7\n",
            "[0, 10, 20, 10, 20, 15, 40, 200]\n",
            "315 315\n",
            "315\n",
            "0.0204 s\n"
          ]
        }
      ]
    },
    {
      "cell_type": "code",
      "source": [
        "start=time.time()\n",
        "'''\n",
        "기출 Q34.병사 배치하기 : FAIL 40/40min\n",
        "bottom up\n",
        "\n",
        "'''\n",
        "import numpy as np\n",
        "n=7\n",
        "c = [0,15,11,4,8,5,2,4]\n",
        "\n",
        "max_ans = 0\n",
        "def check(a, b, ans):\n",
        "    if a==n:\n",
        "        print(ans)\n",
        "        # check(a,b+1,ans=1)\n",
        "        return ans\n",
        "\n",
        "    if b<n+1:\n",
        "        if c[a] > c[b]:##뒤에 병사가 전투력 낮을때\n",
        "            # print('i',a,b,ans)\n",
        "            return check(b,b+1,ans+1)\n",
        "\n",
        "        else:#뒤에 병사가 전투력 높을때\n",
        "            # print('e',a,b,ans)\n",
        "            b+=1\n",
        "            return check(a,b,ans)\n",
        "    else:\n",
        "        return check(a+1,a+2,ans)\n",
        "\n",
        "\n",
        "\n",
        "for i in range(1,n): #시작점\n",
        "    for j in range(i+1, n+1):\n",
        "        ans = 1\n",
        "        return_ans = check(i,j,ans)\n",
        "        max_ans = max(max_ans,return_ans)\n",
        "\n",
        "print(n-max_ans)\n",
        "\n",
        "end=time.time()\n",
        "exe_time = end-start\n",
        "print(f'{exe_time:.4f}','s')"
      ],
      "metadata": {
        "colab": {
          "base_uri": "https://localhost:8080/"
        },
        "id": "6eNah6qusbyY",
        "outputId": "f634d4f0-cd90-41e0-dce4-e644cde9d345"
      },
      "execution_count": 213,
      "outputs": [
        {
          "output_type": "stream",
          "name": "stdout",
          "text": [
            "4\n",
            "3\n",
            "4\n",
            "3\n",
            "2\n",
            "2\n",
            "3\n",
            "4\n",
            "3\n",
            "2\n",
            "2\n",
            "2\n",
            "2\n",
            "2\n",
            "3\n",
            "3\n",
            "2\n",
            "2\n",
            "2\n",
            "2\n",
            "1\n",
            "3\n",
            "0.0079 s\n"
          ]
        }
      ]
    },
    {
      "cell_type": "code",
      "source": [
        "start=time.time()\n",
        "'''\n",
        "기출 Q35.못생긴 수: PASS 20/30min\n",
        "\n",
        "'''\n",
        "n = 10\n",
        "#못생긴수 리스트\n",
        "c = [1,2,3,5]\n",
        "#리스트 길이 n까지\n",
        "\n",
        "\n",
        "def f(c):\n",
        "    #리스트 요소에 차례대로 2,3,5 곱하기\n",
        "    for x in c:\n",
        "        p2 = x*2\n",
        "        p3 = x*3\n",
        "        p5 = x*5\n",
        "        #리스트 길이 n 종료\n",
        "        if len(c) < n+1:\n",
        "            #리스트에 요소 중복이 없으면 추가\n",
        "            if p2 not in c:\n",
        "                c.append(p2)\n",
        "                #리스트 정렬\n",
        "                c.sort()\n",
        "                print(c)\n",
        "                return f(c)\n",
        "            if p3 not in c:\n",
        "                c.append(p3)\n",
        "                c.sort()\n",
        "                print(c)\n",
        "                return f(c)\n",
        "            if p5 not in c:\n",
        "                c.append(p5)\n",
        "                c.sort()\n",
        "                print(c)\n",
        "                return f(c)\n",
        "        else:\n",
        "            return c[n-1]\n",
        "\n",
        "result = f(c)\n",
        "print(result)\n",
        "\n",
        "end=time.time()\n",
        "exe_time = end-start\n",
        "print(f'{exe_time:.4f}','s')"
      ],
      "metadata": {
        "colab": {
          "base_uri": "https://localhost:8080/"
        },
        "id": "LRRxTlVl_uvR",
        "outputId": "73bfe409-7fcb-466c-e6d4-73bfab94c6c4"
      },
      "execution_count": 212,
      "outputs": [
        {
          "output_type": "stream",
          "name": "stdout",
          "text": [
            "[1, 2, 3, 4, 5]\n",
            "[1, 2, 3, 4, 5, 6]\n",
            "[1, 2, 3, 4, 5, 6, 10]\n",
            "[1, 2, 3, 4, 5, 6, 9, 10]\n",
            "[1, 2, 3, 4, 5, 6, 9, 10, 15]\n",
            "[1, 2, 3, 4, 5, 6, 8, 9, 10, 15]\n",
            "[1, 2, 3, 4, 5, 6, 8, 9, 10, 12, 15]\n",
            "12\n",
            "0.0105 s\n"
          ]
        }
      ]
    },
    {
      "cell_type": "code",
      "source": [
        "start=time.time()\n",
        "'''\n",
        "기출 Q36.편집거리: FAIL 30/30min\n",
        "\n",
        "1.같은 알파벳 리스트에 저장\n",
        "2.빈 리스트 개수 세기(insert & replace)\n",
        "3.del\n",
        "'''\n",
        "a = 'sunday'\n",
        "b = 'saturday'\n",
        "c = [0]*len(b)\n",
        "k=0\n",
        "for i in range(len(a)):\n",
        "    for j in range(k,len(b)):\n",
        "        if a[i]== b[j]:\n",
        "            c[j] = a[i]\n",
        "            k=i+1\n",
        "print(c)\n",
        "ans=0\n",
        "for z in c:\n",
        "    if z==0:\n",
        "        ans+=1\n",
        "print(ans)\n",
        "\n",
        "end=time.time()\n",
        "exe_time = end-start\n",
        "print(f'{exe_time:.4f}','s')"
      ],
      "metadata": {
        "colab": {
          "base_uri": "https://localhost:8080/"
        },
        "id": "fUSYCyfmHyJI",
        "outputId": "757a3127-0d1e-4f7d-f8f1-3287c6a129ab"
      },
      "execution_count": 220,
      "outputs": [
        {
          "output_type": "stream",
          "name": "stdout",
          "text": [
            "['s', 0, 0, 'u', 0, 'd', 'a', 'y']\n",
            "3\n",
            "0.0033 s\n"
          ]
        }
      ]
    },
    {
      "cell_type": "code",
      "source": [],
      "metadata": {
        "id": "9IzyimnC3fZk"
      },
      "execution_count": null,
      "outputs": []
    }
  ]
}