{
  "nbformat": 4,
  "nbformat_minor": 0,
  "metadata": {
    "colab": {
      "provenance": [],
      "collapsed_sections": [
        "TY6ZTyTG8xRp",
        "Hfmb5Mj8L_F4",
        "R6lYclHoM_WX",
        "Sfghej17GMOj",
        "qgpf5nbzQQE0",
        "kJ3xWYuqpU1O",
        "vMKsvnDjpcZ1",
        "z7Rsqb7d3bWB",
        "xBEvtVQIwa5L",
        "1oLv-OGwbb-c"
      ]
    },
    "kernelspec": {
      "name": "python3",
      "display_name": "Python 3"
    },
    "language_info": {
      "name": "python"
    }
  },
  "cells": [
    {
      "cell_type": "markdown",
      "source": [
        "# Q15. 특정 거리의 도시 찾기: PASS 30/30min"
      ],
      "metadata": {
        "id": "TY6ZTyTG8xRp"
      }
    },
    {
      "cell_type": "markdown",
      "source": [
        "###풀이과정\n",
        "\n"
      ],
      "metadata": {
        "id": "Hfmb5Mj8L_F4"
      }
    },
    {
      "cell_type": "code",
      "execution_count": null,
      "metadata": {
        "colab": {
          "base_uri": "https://localhost:8080/"
        },
        "id": "RhzJj35oVcra",
        "outputId": "c59c893a-65da-456d-b56f-bbdb129a34a0"
      },
      "outputs": [
        {
          "output_type": "stream",
          "name": "stdout",
          "text": [
            "4 4 2 1\n",
            "1 2\n",
            "1 3\n",
            "2 3\n",
            "2 4\n",
            "[[], [2, 3], [3, 4], [], []]\n"
          ]
        }
      ],
      "source": [
        "#도시 개수, 도로 개수, 최단 거리 정보, 출발도시 번호\n",
        "n, m, k, x = map(int, input().split())\n",
        "\n",
        "#도로 연결 >> 인접 리스트 방식\n",
        "graph = [[] for _ in range(n+1)]\n",
        "\n",
        "#1-base, 단방향 도로정보 입력\n",
        "for _ in range(m):\n",
        "    a, b = map(int, input().split())\n",
        "    graph[a].append(b)\n",
        "\n",
        "\n",
        "print(graph)"
      ]
    },
    {
      "cell_type": "code",
      "source": [
        "n, m, k, x = 4, 4, 2, 1\n",
        "graph = [[], [2, 3], [3, 4], [], []]"
      ],
      "metadata": {
        "id": "JV1MYBTc9aNs"
      },
      "execution_count": null,
      "outputs": []
    },
    {
      "cell_type": "code",
      "source": [
        "#최단거리>>BFS\n",
        "from collections import deque\n",
        "\n",
        "#초기화\n",
        "visited = [False for _ in range(n+1)]\n",
        "dist = [0 for _ in range(n+1)]\n",
        "\n",
        "def bfs(x, k, graph, visited, dist):\n",
        "    #시작 노드\n",
        "    q = deque([x])\n",
        "    visited[x] = True\n",
        "    dist[x] = 0\n",
        "    #거리 업데이트\n",
        "    while q: #모든 노드 탐색할때까지\n",
        "        v = q.popleft() #큐에서 확인할 노드 v\n",
        "        for i in graph[v]: #노드 v와 연결된 모든 i\n",
        "            if not visited[i]: #i가 방문처리 안되어있다면\n",
        "                q.append(i)#i를 큐에 삽입\n",
        "                visited[i] = True#i 방문처리\n",
        "                dist[i] = dist[v]+1\n",
        "    #최단거리 k인 노드출력\n",
        "    result = []\n",
        "    for i in range(1,n+1):\n",
        "        if dist[i] == k:\n",
        "            result.append(i)\n",
        "    if len(result) == 0:\n",
        "        return -1\n",
        "    else:\n",
        "        result.sort()\n",
        "        return result\n"
      ],
      "metadata": {
        "id": "wrOiSoV39oCf"
      },
      "execution_count": null,
      "outputs": []
    },
    {
      "cell_type": "code",
      "source": [
        "bfs(x, k, graph, visited, dist)"
      ],
      "metadata": {
        "colab": {
          "base_uri": "https://localhost:8080/"
        },
        "id": "LNtOMEETFsuH",
        "outputId": "3b58247e-6ba8-4fa1-bd66-ec62df8bbdae"
      },
      "execution_count": null,
      "outputs": [
        {
          "output_type": "execute_result",
          "data": {
            "text/plain": [
              "[4]"
            ]
          },
          "metadata": {},
          "execution_count": 13
        }
      ]
    },
    {
      "cell_type": "markdown",
      "source": [
        "###해답"
      ],
      "metadata": {
        "id": "R6lYclHoM_WX"
      }
    },
    {
      "cell_type": "code",
      "source": [
        "import time\n",
        "from collections import deque\n",
        "\n",
        "n, m, k, x = map(int, input().split())\n",
        "graph = [[] for _ in range(n+1)]\n",
        "for _ in range(m):\n",
        "    a, b = map(int, input().split())\n",
        "    graph[a].append(b)\n",
        "\n",
        "start = time.time()\n",
        "#초기화\n",
        "visited = [False for _ in range(n+1)]\n",
        "dist = [0 for _ in range(n+1)]\n",
        "\n",
        "def bfs(x, k, graph, visited, dist):\n",
        "    #시작 노드\n",
        "    q = deque([x])\n",
        "    visited[x] = True\n",
        "    dist[x] = 0\n",
        "    #거리 업데이트\n",
        "    while q: #모든 노드 탐색할때까지\n",
        "        v = q.popleft() #큐에서 확인할 노드 v\n",
        "        for i in graph[v]: #노드 v와 연결된 모든 i\n",
        "            if not visited[i]: #i가 방문처리 안되어있다면\n",
        "                q.append(i)#i를 큐에 삽입\n",
        "                visited[i] = True#i 방문처리\n",
        "                dist[i] = dist[v]+1\n",
        "    #최단거리 k인 노드출력\n",
        "    dist_k = []\n",
        "    for i in range(1,n+1):\n",
        "        if dist[i] == k:\n",
        "            dist_k.append(i)\n",
        "    if len(dist_k) == 0:\n",
        "        return -1\n",
        "    else:\n",
        "        dist_k.sort()\n",
        "        return dist_k\n",
        "\n",
        "result = bfs(x, k, graph, visited, dist)\n",
        "for i in range(len(result)):\n",
        "    print(result[i])\n",
        "\n",
        "time.sleep(1)\n",
        "print(f\"{time.time()-start:.4f} sec\")"
      ],
      "metadata": {
        "colab": {
          "base_uri": "https://localhost:8080/"
        },
        "id": "BJcLREs-GjOx",
        "outputId": "c8ea8426-aeb1-4dd2-bfca-9c137aa60d2c"
      },
      "execution_count": null,
      "outputs": [
        {
          "output_type": "stream",
          "name": "stdout",
          "text": [
            "4 4 1 1\n",
            "1 2\n",
            "1 3\n",
            "2 3\n",
            "2 4\n",
            "2\n",
            "3\n",
            "1.0030 sec\n"
          ]
        }
      ]
    },
    {
      "cell_type": "markdown",
      "source": [
        "#Q16.연구소:FAIL 60/40min"
      ],
      "metadata": {
        "id": "Sfghej17GMOj"
      }
    },
    {
      "cell_type": "markdown",
      "source": [
        "###풀이과정"
      ],
      "metadata": {
        "id": "qgpf5nbzQQE0"
      }
    },
    {
      "cell_type": "code",
      "source": [
        "n, m = map(int,input().split())\n",
        "data = []\n",
        "for _ in range(n):\n",
        "    data.append(list(map(int, input().split())))\n",
        "print(data)"
      ],
      "metadata": {
        "colab": {
          "base_uri": "https://localhost:8080/"
        },
        "id": "G-P-uLB0PmNj",
        "outputId": "872cd0d3-ad9a-46c0-c141-651a6e2b2d54"
      },
      "execution_count": null,
      "outputs": [
        {
          "output_type": "stream",
          "name": "stdout",
          "text": [
            "4 6\n",
            "0 0 0 0 0 0\n",
            "1 0 0 0 0 2\n",
            "1 1 1 0 0 2\n",
            "0 0 0 0 0 2\n",
            "[[0, 0, 0, 0, 0, 0], [1, 0, 0, 0, 0, 2], [1, 1, 1, 0, 0, 2], [0, 0, 0, 0, 0, 2]]\n"
          ]
        }
      ]
    },
    {
      "cell_type": "code",
      "source": [
        "#그리디\n",
        "empty = []\n",
        "for i in range(n):\n",
        "    for j in range(m):\n",
        "        if data[i][j]==0:\n",
        "            empty.append([i,j])\n",
        "print(len(empty),empty)"
      ],
      "metadata": {
        "colab": {
          "base_uri": "https://localhost:8080/"
        },
        "id": "bVkFLB-BRYZH",
        "outputId": "0ce6a011-b686-4055-a63c-d8b4935f7424"
      },
      "execution_count": null,
      "outputs": [
        {
          "output_type": "stream",
          "name": "stdout",
          "text": [
            "17 [[0, 0], [0, 1], [0, 2], [0, 3], [0, 4], [0, 5], [1, 1], [1, 2], [1, 3], [1, 4], [2, 3], [2, 4], [3, 0], [3, 1], [3, 2], [3, 3], [3, 4]]\n"
          ]
        }
      ]
    },
    {
      "cell_type": "code",
      "source": [
        "import itertools\n",
        "walls = list(itertools.combinations(empty, 3))\n",
        "print(len(walls), walls[0])"
      ],
      "metadata": {
        "colab": {
          "base_uri": "https://localhost:8080/"
        },
        "id": "xTQ36cTzSs6T",
        "outputId": "109aa74f-c184-483e-acaa-b2f2d9a89e92"
      },
      "execution_count": null,
      "outputs": [
        {
          "output_type": "stream",
          "name": "stdout",
          "text": [
            "680 ([0, 0], [0, 1], [0, 2])\n"
          ]
        }
      ]
    },
    {
      "cell_type": "code",
      "source": [
        "#벽설치\n",
        "def build(data, wall):\n",
        "    graph = data\n",
        "    for i in range(3):\n",
        "        graph[wall[i][0]][wall[i][1]] = 1\n",
        "    return graph\n",
        "\n",
        "print(build(data,walls[0]))"
      ],
      "metadata": {
        "colab": {
          "base_uri": "https://localhost:8080/"
        },
        "id": "WquSAx3TTUVI",
        "outputId": "11ec19df-d3fc-447f-8e8f-0855ee7c98f2"
      },
      "execution_count": null,
      "outputs": [
        {
          "output_type": "stream",
          "name": "stdout",
          "text": [
            "[[1, 1, 1, 1, 1, 2], [1, 2, 2, 2, 2, 2], [1, 1, 1, 2, 2, 2], [2, 2, 2, 2, 2, 2]]\n"
          ]
        }
      ]
    },
    {
      "cell_type": "code",
      "source": [
        "import numpy as np\n",
        "dx = [-1,0,1,0]\n",
        "dy = [0,1,0,-1]\n",
        "\n",
        "#dfs 바이러스 지점 x,y에 대해 수행\n",
        "def dfs(x,y,graph):\n",
        "    for i in range(4): #동서남북 중에\n",
        "        nx = x + dx[i]\n",
        "        ny = y + dy[i]\n",
        "        if nx>=0 and nx<n and ny>=0 and ny<m: #범위내 nx,ny에서\n",
        "            if graph[nx][ny] == 0:#빈공간이면\n",
        "                graph[nx][ny] = 2 #바이러스 퍼짐\n",
        "                dfs(nx,ny,graph) #재귀함수 수행\n",
        "\n",
        "#바이러스 퍼뜨리기\n",
        "# graph = build(data,walls[0])\n",
        "# for x in range(n):\n",
        "#     for y in range(m):\n",
        "#         if graph[x][y]==2:\n",
        "#             dfs(x,y,graph)\n",
        "\n",
        "# print(np.array(graph))\n"
      ],
      "metadata": {
        "id": "PQScvQjnYT5d"
      },
      "execution_count": null,
      "outputs": []
    },
    {
      "cell_type": "code",
      "source": [
        "#컴비네이션 및 출력\n",
        "def virus(build):\n",
        "    for x in range(n):\n",
        "        for y in range(m):\n",
        "            if build[x][y]==2:\n",
        "                dfs(x,y,build)\n",
        "    return build\n",
        "\n",
        "def safe(build):\n",
        "    count = 0\n",
        "    for x in range(n):\n",
        "        for y in range(m):\n",
        "            if build[x][y]==0:\n",
        "                count +=1\n",
        "    return count\n",
        "\n",
        "data=[[0, 0, 0, 0, 0, 0], [1, 0, 0, 0, 0, 2], [1, 1, 1, 0, 0, 2], [0, 0, 0, 0, 0, 2]]\n",
        "count_list=[]\n",
        "for c in range(3):\n",
        "    print('0\\n',np.array(data))\n",
        "    c_wall = walls[c]\n",
        "    c_build = build(data, c_wall)\n",
        "    print('1\\n',np.array(c_build))\n",
        "    v_graph = virus(c_build)\n",
        "    print('2\\n',np.array(v_graph))\n",
        "    s_count = safe(v_graph)\n",
        "    print('3\\n',s_count)\n",
        "    count_list.append(s_count)\n",
        "\n",
        "print(max(count_list))\n"
      ],
      "metadata": {
        "colab": {
          "base_uri": "https://localhost:8080/"
        },
        "id": "DtEGZkD6gw9v",
        "outputId": "e11b2a01-05bd-48f0-8458-ed955f66fc9d"
      },
      "execution_count": null,
      "outputs": [
        {
          "output_type": "stream",
          "name": "stdout",
          "text": [
            "0\n",
            " [[0 0 0 0 0 0]\n",
            " [1 0 0 0 0 2]\n",
            " [1 1 1 0 0 2]\n",
            " [0 0 0 0 0 2]]\n",
            "1\n",
            " [[1 1 1 0 0 0]\n",
            " [1 0 0 0 0 2]\n",
            " [1 1 1 0 0 2]\n",
            " [0 0 0 0 0 2]]\n",
            "2\n",
            " [[1 1 1 2 2 2]\n",
            " [1 2 2 2 2 2]\n",
            " [1 1 1 2 2 2]\n",
            " [2 2 2 2 2 2]]\n",
            "3\n",
            " 0\n",
            "0\n",
            " [[1 1 1 2 2 2]\n",
            " [1 2 2 2 2 2]\n",
            " [1 1 1 2 2 2]\n",
            " [2 2 2 2 2 2]]\n",
            "1\n",
            " [[1 1 1 1 2 2]\n",
            " [1 2 2 2 2 2]\n",
            " [1 1 1 2 2 2]\n",
            " [2 2 2 2 2 2]]\n",
            "2\n",
            " [[1 1 1 1 2 2]\n",
            " [1 2 2 2 2 2]\n",
            " [1 1 1 2 2 2]\n",
            " [2 2 2 2 2 2]]\n",
            "3\n",
            " 0\n",
            "0\n",
            " [[1 1 1 1 2 2]\n",
            " [1 2 2 2 2 2]\n",
            " [1 1 1 2 2 2]\n",
            " [2 2 2 2 2 2]]\n",
            "1\n",
            " [[1 1 1 1 1 2]\n",
            " [1 2 2 2 2 2]\n",
            " [1 1 1 2 2 2]\n",
            " [2 2 2 2 2 2]]\n",
            "2\n",
            " [[1 1 1 1 1 2]\n",
            " [1 2 2 2 2 2]\n",
            " [1 1 1 2 2 2]\n",
            " [2 2 2 2 2 2]]\n",
            "3\n",
            " 0\n",
            "0\n"
          ]
        }
      ]
    },
    {
      "cell_type": "markdown",
      "source": [
        "#Q17. 경쟁적 전염: PASS 50/50min"
      ],
      "metadata": {
        "id": "kJ3xWYuqpU1O"
      }
    },
    {
      "cell_type": "markdown",
      "source": [
        "###풀이과정"
      ],
      "metadata": {
        "id": "vMKsvnDjpcZ1"
      }
    },
    {
      "cell_type": "code",
      "source": [
        "import numpy as np\n",
        "n, k = 3, 3\n",
        "data = [[1,0,2],[0,0,0],[3,0,0]]\n",
        "s, x, y = 2, 3, 2\n",
        "print(np.array(data))"
      ],
      "metadata": {
        "colab": {
          "base_uri": "https://localhost:8080/"
        },
        "id": "cp4R7XOepbWH",
        "outputId": "ec877899-e755-4fd2-e1ca-057e4f2a38b6"
      },
      "execution_count": null,
      "outputs": [
        {
          "output_type": "stream",
          "name": "stdout",
          "text": [
            "[[1 0 2]\n",
            " [0 0 0]\n",
            " [3 0 0]]\n"
          ]
        }
      ]
    },
    {
      "cell_type": "code",
      "source": [
        "#바이러스 순서대로 큐 생성\n",
        "from collections import deque\n",
        "\n",
        "virus = []\n",
        "for i in range(n):\n",
        "    for j in range(k):\n",
        "        if data[i][j]!=0:\n",
        "            virus.append([data[i][j],i,j,0])\n",
        "virus.sort()\n",
        "print(virus)\n",
        "\n",
        "dx = [-1,0,1,0]\n",
        "dy = [0,1,0,-1]\n",
        "\n",
        "#큐 순서대로 바이러스 업데이트\n",
        "q = deque(virus)\n",
        "while q:\n",
        "    v_num, v_x, v_y, v_s = q.popleft()\n",
        "    print('pop',q)\n",
        "    if v_s<s:\n",
        "        for i in range(4):\n",
        "            nx = v_x + dx[i]\n",
        "            ny = v_y + dy[i]\n",
        "            if nx>=0 and nx<n and ny>=0 and ny<k:\n",
        "                if data[nx][ny]==0:\n",
        "                    data[nx][ny]=v_num\n",
        "                    q.append([v_num, nx, ny, v_s+1])\n",
        "                    print('append',q)\n",
        "\n",
        "print(np.array(data))"
      ],
      "metadata": {
        "colab": {
          "base_uri": "https://localhost:8080/"
        },
        "id": "D042rBunrpY_",
        "outputId": "630232ea-6d79-4d17-990f-d7b268e9c9b0"
      },
      "execution_count": null,
      "outputs": [
        {
          "output_type": "stream",
          "name": "stdout",
          "text": [
            "[[1, 0, 0, 0], [2, 0, 2, 0], [3, 2, 0, 0]]\n",
            "pop deque([[2, 0, 2, 0], [3, 2, 0, 0]])\n",
            "append deque([[2, 0, 2, 0], [3, 2, 0, 0], [1, 0, 1, 1]])\n",
            "append deque([[2, 0, 2, 0], [3, 2, 0, 0], [1, 0, 1, 1], [1, 1, 0, 1]])\n",
            "pop deque([[3, 2, 0, 0], [1, 0, 1, 1], [1, 1, 0, 1]])\n",
            "append deque([[3, 2, 0, 0], [1, 0, 1, 1], [1, 1, 0, 1], [2, 1, 2, 1]])\n",
            "pop deque([[1, 0, 1, 1], [1, 1, 0, 1], [2, 1, 2, 1]])\n",
            "append deque([[1, 0, 1, 1], [1, 1, 0, 1], [2, 1, 2, 1], [3, 2, 1, 1]])\n",
            "pop deque([[1, 1, 0, 1], [2, 1, 2, 1], [3, 2, 1, 1]])\n",
            "append deque([[1, 1, 0, 1], [2, 1, 2, 1], [3, 2, 1, 1], [1, 1, 1, 2]])\n",
            "pop deque([[2, 1, 2, 1], [3, 2, 1, 1], [1, 1, 1, 2]])\n",
            "pop deque([[3, 2, 1, 1], [1, 1, 1, 2]])\n",
            "append deque([[3, 2, 1, 1], [1, 1, 1, 2], [2, 2, 2, 2]])\n",
            "pop deque([[1, 1, 1, 2], [2, 2, 2, 2]])\n",
            "pop deque([[2, 2, 2, 2]])\n",
            "pop deque([])\n",
            "[[1 1 2]\n",
            " [1 1 2]\n",
            " [3 3 2]]\n"
          ]
        }
      ]
    },
    {
      "cell_type": "markdown",
      "source": [
        "#Q18.괄호변환"
      ],
      "metadata": {
        "id": "z7Rsqb7d3bWB"
      }
    },
    {
      "cell_type": "markdown",
      "source": [
        "###풀이과정 : FAIL 20/20min **올바른 문자열 판단방법 생각못함"
      ],
      "metadata": {
        "id": "kSgXXwhm3iV4"
      }
    },
    {
      "cell_type": "code",
      "source": [],
      "metadata": {
        "id": "w3_vzT8R3h1Y"
      },
      "execution_count": null,
      "outputs": []
    },
    {
      "cell_type": "markdown",
      "source": [
        "#Q19.연산자 끼워 넣기: FAIL 40/30min"
      ],
      "metadata": {
        "id": "xBEvtVQIwa5L"
      }
    },
    {
      "cell_type": "markdown",
      "source": [
        "###풀이과정"
      ],
      "metadata": {
        "id": "mX6YKiduwgcX"
      }
    },
    {
      "cell_type": "code",
      "source": [
        "n = int(input())\n",
        "\n",
        "data = list(map(int, input().split()))\n",
        "add,sub,mul,div = map(int, input().split())\n",
        "\n",
        "min_value = 1e9\n",
        "max_value = -1e9\n",
        "\n",
        "def dfs(i, now):\n",
        "    global min_value, max_value, add, sub, mul, div\n",
        "    print('dfs',i,now)\n",
        "    if i==n:\n",
        "        min_value = min(min_value, now)\n",
        "        max_value = max(max_value, now)\n",
        "        print('i==n', min_value, max_value)\n",
        "    else:\n",
        "        if add > 0:\n",
        "            add -= 1\n",
        "            print(add,'a1')\n",
        "            dfs(i+1, now+data[i])\n",
        "            print(add,'a2')\n",
        "            add+=1\n",
        "\n",
        "        if sub > 0:\n",
        "            sub -= 1\n",
        "            dfs(i+1, now-data[i])\n",
        "            # sub+=1\n",
        "\n",
        "        if mul > 0:\n",
        "            mul -= 1\n",
        "            print(mul,'m1')\n",
        "            dfs(i+1, now*data[i])\n",
        "            print(mul,'m2')\n",
        "            mul+=1\n",
        "\n",
        "        if div > 0:\n",
        "            div -= 1\n",
        "            dfs(i+1, int(now/data[i]))\n",
        "            # div += 1\n",
        "\n",
        "dfs(1,data[0])\n",
        "print(max_value,min_value)"
      ],
      "metadata": {
        "id": "Hn3rXv4m3gm5",
        "colab": {
          "base_uri": "https://localhost:8080/"
        },
        "outputId": "174548fa-1b18-4396-86bc-e8bb6f10d139"
      },
      "execution_count": 9,
      "outputs": [
        {
          "output_type": "stream",
          "name": "stdout",
          "text": [
            "3\n",
            "3 4 5\n",
            "1 0 1 0\n",
            "dfs 1 3\n",
            "0 a1\n",
            "dfs 2 7\n",
            "0 m1\n",
            "dfs 3 35\n",
            "i==n 35 35\n",
            "0 m2\n",
            "0 a2\n",
            "0 m1\n",
            "dfs 2 12\n",
            "0 a1\n",
            "dfs 3 17\n",
            "i==n 17 35\n",
            "0 a2\n",
            "0 m2\n",
            "35 17\n"
          ]
        }
      ]
    },
    {
      "cell_type": "markdown",
      "source": [
        "#20. 감시 피하기:FAIL 80/60min 디버깅하면 될거 같기도..."
      ],
      "metadata": {
        "id": "1oLv-OGwbb-c"
      }
    },
    {
      "cell_type": "code",
      "source": [
        "n = int(input())\n",
        "data = []\n",
        "for _ in range(n):\n",
        "    data.append(list(input().split()))\n",
        "print(data)"
      ],
      "metadata": {
        "colab": {
          "base_uri": "https://localhost:8080/"
        },
        "id": "SGIX_INxiDUB",
        "outputId": "4b52337f-86e9-45c5-e136-c945842c9b27"
      },
      "execution_count": 11,
      "outputs": [
        {
          "output_type": "stream",
          "name": "stdout",
          "text": [
            "5\n",
            "X S X X T\n",
            "T X S X X\n",
            "X X X X X\n",
            "X T X X X \n",
            "X X T X X\n",
            "[['X', 'S', 'X', 'X', 'T'], ['T', 'X', 'S', 'X', 'X'], ['X', 'X', 'X', 'X', 'X'], ['X', 'T', 'X', 'X', 'X'], ['X', 'X', 'T', 'X', 'X']]\n"
          ]
        }
      ]
    },
    {
      "cell_type": "code",
      "source": [
        "import numpy as np\n",
        "print(np.array(data))"
      ],
      "metadata": {
        "colab": {
          "base_uri": "https://localhost:8080/"
        },
        "id": "dhV60lxTks6U",
        "outputId": "ef778e0f-403c-483a-d893-e775d819a3f3"
      },
      "execution_count": 13,
      "outputs": [
        {
          "output_type": "stream",
          "name": "stdout",
          "text": [
            "[['X' 'S' 'X' 'X' 'T']\n",
            " ['T' 'X' 'S' 'X' 'X']\n",
            " ['X' 'X' 'X' 'X' 'X']\n",
            " ['X' 'T' 'X' 'X' 'X']\n",
            " ['X' 'X' 'T' 'X' 'X']]\n"
          ]
        }
      ]
    },
    {
      "cell_type": "code",
      "source": [
        "#장애물 설치 경우의수 탐색\n",
        "def dfs(count, data):\n",
        "    if count == 3:  # 장애물 3개 설치할때\n",
        "        # 감시 피할수있는지\n",
        "        if safe(data):\n",
        "            return True\n",
        "        return False\n",
        "\n",
        "    for i in range(n):\n",
        "        for j in range(n):\n",
        "            if data[i][j] == 'X':  # 빈칸에 장애물 설치\n",
        "                data[i][j] = 'O'\n",
        "\n",
        "                # 다음 장애물 설치\n",
        "                if dfs(count + 1, data):# T>>종료\n",
        "                    return True\n",
        "\n",
        "                data[i][j] = 'X'  # F>>다시 빈칸으로\n",
        "\n",
        "    return False"
      ],
      "metadata": {
        "id": "kBuIGIFkkzxR"
      },
      "execution_count": 28,
      "outputs": []
    },
    {
      "cell_type": "code",
      "source": [
        "def safe(data):\n",
        "    dx = [-1,0,1,0]\n",
        "    dy = [0,1,0,-1]\n",
        "\n",
        "    for x in range(n):\n",
        "        for y in range(n):\n",
        "            if data[x][y]=='T': #선생님마다 체크\n",
        "                for i in range(4):\n",
        "\n",
        "                    nx = x + dx[i]\n",
        "                    ny = y + dy[i]\n",
        "\n",
        "                    while nx>=0 and nx<n and ny>=0 and ny<n:\n",
        "                        if data[nx][ny]=='S': #학생 만나면 F\n",
        "                            return False\n",
        "                        elif data[nx][ny]=='0': #장애물 break\n",
        "                            break\n",
        "                        nx += dx[i]#한방향으로 이동\n",
        "                        ny += dy[i]\n",
        "    return True #통과"
      ],
      "metadata": {
        "id": "-WY-m-XnrhyE"
      },
      "execution_count": 21,
      "outputs": []
    },
    {
      "cell_type": "code",
      "source": [
        "n = 5\n",
        "data = [['X', 'S', 'X', 'X', 'T'], ['T', 'X', 'S', 'X', 'X'], ['X', 'X', 'X', 'X', 'X'], ['X', 'T', 'X', 'X', 'X'], ['X', 'X', 'T', 'X', 'X']]\n",
        "# data = [['S', 'S', 'S', 'T'], ['X', 'X', 'X', 'X'], ['X', 'X', 'X', 'X'], ['T', 'T', 'T', 'X']]\n",
        "dfs(0,data)"
      ],
      "metadata": {
        "colab": {
          "base_uri": "https://localhost:8080/"
        },
        "id": "qTZ70Qkmtmdw",
        "outputId": "7105c1b1-3ad0-463b-bc98-9f23db7ce1b1"
      },
      "execution_count": 30,
      "outputs": [
        {
          "output_type": "execute_result",
          "data": {
            "text/plain": [
              "False"
            ]
          },
          "metadata": {},
          "execution_count": 30
        }
      ]
    }
  ]
}