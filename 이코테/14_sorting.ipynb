{
  "nbformat": 4,
  "nbformat_minor": 0,
  "metadata": {
    "colab": {
      "provenance": [],
      "collapsed_sections": [
        "FoNy9pQ4iKbx",
        "cJwBePWsiKji",
        "yizJTsAFiKqi",
        "LqWt0IytiKzA"
      ]
    },
    "kernelspec": {
      "name": "python3",
      "display_name": "Python 3"
    },
    "language_info": {
      "name": "python"
    }
  },
  "cells": [
    {
      "cell_type": "markdown",
      "source": [
        "##Q23.국영수 30/20min:FAIL"
      ],
      "metadata": {
        "id": "FoNy9pQ4iKbx"
      }
    },
    {
      "cell_type": "code",
      "source": [
        "n=12\n",
        "data = ['Junkyu 50 60 100',\n",
        "'Sangkeun 80 60 50',\n",
        "'Sunyoung 80 70 100',\n",
        "'Soong 50 60 90',\n",
        "'Haebin 50 60 100',\n",
        "'Kangsoo 60 80 100',\n",
        "'Donghyuk 80 60 100',\n",
        "'Sei 70 70 70',\n",
        "'Wonseob 70 70 90',\n",
        "'Sanghyun 70 70 80',\n",
        "'nsj 80 80 80',\n",
        "'Taewhan 50 60 90']\n",
        "\n",
        "len(data)"
      ],
      "metadata": {
        "colab": {
          "base_uri": "https://localhost:8080/"
        },
        "id": "JAXauGv_ikIK",
        "outputId": "e771ba47-8d25-4d0c-bd4d-4c14b90dd955"
      },
      "execution_count": null,
      "outputs": [
        {
          "output_type": "execute_result",
          "data": {
            "text/plain": [
              "12"
            ]
          },
          "metadata": {},
          "execution_count": 9
        }
      ]
    },
    {
      "cell_type": "code",
      "source": [
        "print(data[0].split(' ')[0])"
      ],
      "metadata": {
        "colab": {
          "base_uri": "https://localhost:8080/"
        },
        "id": "oLnGw0CPlST6",
        "outputId": "37e64d96-9c30-4f42-d196-22cd3e6f849c"
      },
      "execution_count": null,
      "outputs": [
        {
          "output_type": "stream",
          "name": "stdout",
          "text": [
            "Junkyu\n"
          ]
        }
      ]
    },
    {
      "cell_type": "code",
      "source": [
        "student = []\n",
        "\n",
        "for i in range(n):\n",
        "    temp = data[i].split(' ')\n",
        "    student.append([temp[0],int(temp[1]),int(temp[2]),int(temp[3])])\n",
        "print(student)"
      ],
      "metadata": {
        "colab": {
          "base_uri": "https://localhost:8080/"
        },
        "id": "KhTAaLfijqPr",
        "outputId": "296fa65a-d54d-4df2-9b2e-2fe1f7c994be"
      },
      "execution_count": null,
      "outputs": [
        {
          "output_type": "stream",
          "name": "stdout",
          "text": [
            "[['Junkyu', 50, 60, 100], ['Sangkeun', 80, 60, 50], ['Sunyoung', 80, 70, 100], ['Soong', 50, 60, 90], ['Haebin', 50, 60, 100], ['Kangsoo', 60, 80, 100], ['Donghyuk', 80, 60, 100], ['Sei', 70, 70, 70], ['Wonseob', 70, 70, 90], ['Sanghyun', 70, 70, 80], ['nsj', 80, 80, 80], ['Taewhan', 50, 60, 90]]\n"
          ]
        }
      ]
    },
    {
      "cell_type": "code",
      "source": [
        "kor = sorted(student, key=lambda x:x[1], reverse=True)\n",
        "print(kor)\n",
        "result = []\n",
        "\n",
        "eng = [kor[0]]\n",
        "for i in range(1,n):\n",
        "    if kor[i][1]==eng[0][1]:\n",
        "        eng.append(kor[i])\n",
        "    else:\n",
        "        eng = sorted(eng, key=lambda x:x[2])\n",
        "        result+=eng\n",
        "        eng = [kor[i]]\n",
        "\n",
        "eng = sorted(eng, key=lambda x:x[2])\n",
        "result+=eng\n",
        "print(result)\n",
        "\n",
        "\n",
        "result2 = []\n",
        "math = [result[0]]\n",
        "for i in range(1,n):\n",
        "    if result[i][1:3]==math[0][1:3]:\n",
        "        math.append(result[i])\n",
        "    else:\n",
        "        math = sorted(math, key=lambda x:x[3], reverse=True)\n",
        "        result2+=math\n",
        "        math = [result[i]]\n",
        "\n",
        "math = sorted(math, key=lambda x:x[3], reverse=True)\n",
        "result2+=math\n",
        "print(result2)\n",
        "\n",
        "for i in range(n):\n",
        "    print(result2[i][0])"
      ],
      "metadata": {
        "colab": {
          "base_uri": "https://localhost:8080/"
        },
        "id": "2Gv184TcnVJO",
        "outputId": "c131d40f-6946-4b12-a89d-065ce97e61dc"
      },
      "execution_count": null,
      "outputs": [
        {
          "output_type": "stream",
          "name": "stdout",
          "text": [
            "[['Sangkeun', 80, 60, 50], ['Sunyoung', 80, 70, 100], ['Donghyuk', 80, 60, 100], ['nsj', 80, 80, 80], ['Sei', 70, 70, 70], ['Wonseob', 70, 70, 90], ['Sanghyun', 70, 70, 80], ['Kangsoo', 60, 80, 100], ['Junkyu', 50, 60, 100], ['Soong', 50, 60, 90], ['Haebin', 50, 60, 100], ['Taewhan', 50, 60, 90]]\n",
            "[['Sangkeun', 80, 60, 50], ['Donghyuk', 80, 60, 100], ['Sunyoung', 80, 70, 100], ['nsj', 80, 80, 80], ['Sei', 70, 70, 70], ['Wonseob', 70, 70, 90], ['Sanghyun', 70, 70, 80], ['Kangsoo', 60, 80, 100], ['Junkyu', 50, 60, 100], ['Soong', 50, 60, 90], ['Haebin', 50, 60, 100], ['Taewhan', 50, 60, 90]]\n",
            "[['Donghyuk', 80, 60, 100], ['Sangkeun', 80, 60, 50], ['Sunyoung', 80, 70, 100], ['nsj', 80, 80, 80], ['Wonseob', 70, 70, 90], ['Sanghyun', 70, 70, 80], ['Sei', 70, 70, 70], ['Kangsoo', 60, 80, 100], ['Junkyu', 50, 60, 100], ['Haebin', 50, 60, 100], ['Soong', 50, 60, 90], ['Taewhan', 50, 60, 90]]\n",
            "Donghyuk\n",
            "Sangkeun\n",
            "Sunyoung\n",
            "nsj\n",
            "Wonseob\n",
            "Sanghyun\n",
            "Sei\n",
            "Kangsoo\n",
            "Junkyu\n",
            "Haebin\n",
            "Soong\n",
            "Taewhan\n"
          ]
        }
      ]
    },
    {
      "cell_type": "markdown",
      "source": [
        "##Q24.안테나 15/20min:PASS"
      ],
      "metadata": {
        "id": "cJwBePWsiKji"
      }
    },
    {
      "cell_type": "code",
      "source": [
        "n=4\n",
        "data= list(map(int,'5 1 7 9'.split(' ')))\n",
        "print(data)"
      ],
      "metadata": {
        "colab": {
          "base_uri": "https://localhost:8080/"
        },
        "id": "a73ldsrzCEVl",
        "outputId": "6b244e52-d4c9-4dd4-ce00-2e46fc0d5d1a"
      },
      "execution_count": null,
      "outputs": [
        {
          "output_type": "stream",
          "name": "stdout",
          "text": [
            "[5, 1, 7, 9]\n"
          ]
        }
      ]
    },
    {
      "cell_type": "code",
      "source": [
        "data.sort()\n",
        "#0>>0, 4>>1, 5>>2\n",
        "idx = (n-1)//2\n",
        "print(data[idx])"
      ],
      "metadata": {
        "colab": {
          "base_uri": "https://localhost:8080/"
        },
        "id": "-7KauSCcDYRE",
        "outputId": "1e2bb54f-6c99-4bb3-825c-1ee2ea61929b"
      },
      "execution_count": null,
      "outputs": [
        {
          "output_type": "stream",
          "name": "stdout",
          "text": [
            "5\n"
          ]
        }
      ]
    },
    {
      "cell_type": "markdown",
      "source": [
        "##Q25.실패율 20/20min:PASS"
      ],
      "metadata": {
        "id": "yizJTsAFiKqi"
      }
    },
    {
      "cell_type": "code",
      "source": [
        "n=5\n",
        "stages=[2,1,2,6,2,4,3,3]\n",
        "\n",
        "def get_fail(s):\n",
        "    user=0\n",
        "    for i in stages:\n",
        "        if i>=s:\n",
        "            user+=1\n",
        "    if user==0:\n",
        "        return 0\n",
        "    else:\n",
        "        fail=stages.count(s)/user\n",
        "        return fail\n",
        "\n",
        "fail_list=[]\n",
        "for i in range(1,n+1):\n",
        "    fail = get_fail(i)\n",
        "    fail_list.append([i,fail])\n",
        "\n",
        "print(fail_list)\n",
        "fail_sort = sorted(fail_list, key=lambda x:x[1], reverse=True)\n",
        "result = [f[0] for f in fail_sort]\n",
        "print(result)"
      ],
      "metadata": {
        "colab": {
          "base_uri": "https://localhost:8080/"
        },
        "id": "zWMIJ6GqGb5u",
        "outputId": "da32c5c4-36fb-476e-92e5-6998d191e39a"
      },
      "execution_count": null,
      "outputs": [
        {
          "output_type": "stream",
          "name": "stdout",
          "text": [
            "[[1, 0.125], [2, 0.42857142857142855], [3, 0.5], [4, 0.5], [5, 0.0]]\n",
            "[3, 4, 2, 1, 5]\n"
          ]
        }
      ]
    },
    {
      "cell_type": "markdown",
      "source": [
        "##Q26.카드 정렬하기 15/30min:PASS"
      ],
      "metadata": {
        "id": "LqWt0IytiKzA"
      }
    },
    {
      "cell_type": "code",
      "source": [
        "n=4\n",
        "# data=[10,20,40]\n",
        "data=[10,40,50,20]\n",
        "data.sort()\n",
        "print(data)\n",
        "\n",
        "count = (data[0]+data[1])*(n-1)\n",
        "for i in range(2,n):\n",
        "    count+=data[i]*(n-i)\n",
        "\n",
        "print(count)\n",
        "\n"
      ],
      "metadata": {
        "colab": {
          "base_uri": "https://localhost:8080/"
        },
        "id": "aEfu2sVaMlOm",
        "outputId": "17066c52-0a85-4cc2-cabe-efc0f4db5844"
      },
      "execution_count": null,
      "outputs": [
        {
          "output_type": "stream",
          "name": "stdout",
          "text": [
            "[10, 20, 40, 50]\n",
            "220\n"
          ]
        }
      ]
    }
  ]
}